{
 "cells": [
  {
   "cell_type": "code",
   "execution_count": 1,
   "metadata": {},
   "outputs": [],
   "source": [
    "# # !pip install langchain langchain_nvidia_ai_endpoints faiss-cpu -q\n",
    "# %pip install --upgrade --quiet  nest_asyncio\n",
    "\n",
    "# # fixes a bug with asyncio and jupyter\n",
    "# import nest_asyncio\n",
    "\n",
    "# nest_asyncio.apply()"
   ]
  },
  {
   "cell_type": "code",
   "execution_count": 2,
   "metadata": {},
   "outputs": [],
   "source": [
    "import os\n",
    "from langchain.chains import ConversationalRetrievalChain, LLMChain\n",
    "from langchain.chains.conversational_retrieval.prompts import CONDENSE_QUESTION_PROMPT, QA_PROMPT\n",
    "from langchain.chains.question_answering import load_qa_chain\n",
    "from langchain.memory import ConversationBufferMemory\n",
    "from langchain.vectorstores import FAISS\n",
    "from langchain.text_splitter import RecursiveCharacterTextSplitter\n",
    "from langchain_nvidia_ai_endpoints import ChatNVIDIA\n",
    "from langchain_nvidia_ai_endpoints import NVIDIAEmbeddings"
   ]
  },
  {
   "cell_type": "code",
   "execution_count": 3,
   "metadata": {},
   "outputs": [],
   "source": [
    "import getpass\n",
    "\n",
    "if not os.environ.get(\"NVIDIA_API_KEY\", \"\").startswith(\"nvapi-\"):\n",
    "    nvapi_key = getpass.getpass(\"Enter your NVIDIA API key: \")\n",
    "    assert nvapi_key.startswith(\"nvapi-\"), f\"{nvapi_key[:5]}... is not a valid key\"\n",
    "    os.environ[\"NVIDIA_API_KEY\"] = nvapi_key"
   ]
  },
  {
   "cell_type": "code",
   "execution_count": 7,
   "metadata": {},
   "outputs": [
    {
     "name": "stdout",
     "output_type": "stream",
     "text": [
      "3\n"
     ]
    }
   ],
   "source": [
    "from langchain_community.document_loaders import WebBaseLoader\n",
    "\n",
    "# Initialize WebBaseLoader with the specified URLs\n",
    "loader = WebBaseLoader([\"https://www.tribalscale.com/\", \"https://www.tribalscale.com/about\", \"https://www.tribalscale.com/careers\"])\n",
    "\n",
    "# Load documents from the web\n",
    "documents = loader.load()\n",
    "\n",
    "# Output the total number of documents loaded\n",
    "print(len(documents))\n"
   ]
  },
  {
   "cell_type": "code",
   "execution_count": 10,
   "metadata": {},
   "outputs": [
    {
     "data": {
      "text/plain": [
       "[Document(page_content='Home | TribalScale1-416-800-0918Our ServicesProductTransformationDesignVenture StudioLLM CalculatorThought LeadershipBlogsPodcastsPress ReleaseCase StudiesAboutCareersConnect With UsOUR SERVICES ProductTransformationDesignVenture StudioLLM CalculatorTHOUGHT LEADERSHIP BlogsPodcastsPress ReleaseCOMPANY Case StudiesAboutCareersConnect With UsYour browser does not support HTML5 video.A mission toright the futureTribalScale is a global innovation firm that helps enterprises adapt and thrive in the digital era. Through Agile practices we transform teams, build best-in-class digital products, and create disruptive startups.75+ NUMBER OF PARTNERS500M+ UNIQUE USERS REACHED350+ PROJECTS SHIPPEDConnect With UsOur servicesA unique and comprehensive approach to digital innovationProductWe build and design cloud-native software solutions for web, mobile, and emerging tech.See MoreTransformationWe enable and empower enterprise teams on every aspect of Agile product development.See Moreour workOur', metadata={'source': 'https://www.tribalscale.com/', 'title': 'Home | TribalScale', 'description': 'Home | TribalScale', 'language': 'en'}),\n",
       " Document(page_content='Moreour workOur approach to each engagement covers everything from strategy to QA Case StudyPlatformStackLeveraging AI to Drive Innovation and SustainabilityCase StudyPlatformStackOne of the world’s leaders in media releases a premier app across platforms.Case StudyPlatformStackEstablishing a Dedicated Quality Assurance Practice for Improved Quality of Software ProductsCase StudyPlatformStackMajor automotive manufacturer builds ride hailing application for competing edge in a rapidly-growing marketCase StudyPlatformStackStreaming platform doubles-down on catering sports experience to customersCase StudyPlatformStackTransforming the Driving Experience With First of Its Kind In-Car Weather AppCase StudyPlatformStackBig three television network revamps their OTT offerings to provide users with complete digital access to breaking news.Case StudyPlatformStackThe PGA Tour leverages new technology to engage and connect with their fans with one of the first voice applications in professional', metadata={'source': 'https://www.tribalscale.com/', 'title': 'Home | TribalScale', 'description': 'Home | TribalScale', 'language': 'en'}),\n",
       " Document(page_content=\"in professional sportsCase StudyPlatformStackiHeartMedia is a leading global media and entertainment company, specializing in radio, digital, live & on-demand content wanted to expand their reach by launching across OTT platforms.Case StudyPlatformStackSports news network is the first in the industry to launch a live-streaming application across over-the-top (OTT) streaming platforms.Case StudyPlatformStackDealership logistics and automation, decodedOUR CLIENTSTrusted by incredible companies around the worldWE’RE HONOUREDTribalScale is on the list!TribalScale is proud to announce its inclusion in Fast Company's prestigious Best Workplaces for Innovators 2023 list.Read MoreTHOUGHT LEADERSHIPKeep in-the-know with all things techBLOGSLatest ReadingDon StevensonAI Unleashed: Navigating the Frontier of Code OptimizationAI Technology • CodingDave PicarazziChoosing Your AI Design Sidekick: Uizard or GalileoAI?SHEETAL JAITLYBow Down to Musk’s 25 Guns: Twitter’s Epic ResurrectionAdam\", metadata={'source': 'https://www.tribalscale.com/', 'title': 'Home | TribalScale', 'description': 'Home | TribalScale', 'language': 'en'}),\n",
       " Document(page_content=\"ResurrectionAdam GloeMaximizing Manufacturing Potential: A Deep Dive into Digital and AI TransformationsMore BlogsMore BlogsPODCASTSLatest PodcastEpisode 66 · 30 minThe Power of AIEpisode 6532 minTribalScale VP of Product/Design Krys Krycinski, is joined by Caroline Morissette, VP of Digital & Data at McCain Foods. Dive into this episode where we discuss the recent partnership between ...32 minEpisode 6427 minTribalScale Marketing Coordinator, Alyssa Berbecaru, is joined by our CEO and founder Sheetal Jaitly - Tune into this week's episode to learn about the Owner/President Management Program at Harvard ...             27 minEpisode 6326 minTribalScale's HR Manager, Nicola Watson, is joined by Hilton Thompson, the Head of Events at Zinnia — Tune in to this week's episode to learn more about the lack of women in the tech industry, what ...             26 minMore PodcastsMore PodcastsBE THE FIRST TO KNOWFollow us on social for the latest in tech & thought leadershipLet's work\", metadata={'source': 'https://www.tribalscale.com/', 'title': 'Home | TribalScale', 'description': 'Home | TribalScale', 'language': 'en'}),\n",
       " Document(page_content='work togetherHave questions about your next digital project, startup or TribalScale? Let’s work through it together.contact@tribalscale.com1-416-800-0918Toronto | New York | Miamicontact@tribalscale.com1-416-800-0918Toronto | New York | MiamiOur ServicesProductTransformationDesignVenture StudioLLM CalculatorOur ServicesProductTransformationDesignVenture StudioLLM CalculatorThought LeadershipBlogsPodcastsPress ReleaseThought LeadershipBlogsPodcastsPress ReleaseCompanyAboutCareersCase StudiesConnect With UsCompanyAboutCareersCase StudiesConnect With Uscontact@tribalscale.com1-416-800-0918Toronto | New York | Miami© 2024 TRIBALSCALE INC.|PRIVACY POLICY', metadata={'source': 'https://www.tribalscale.com/', 'title': 'Home | TribalScale', 'description': 'Home | TribalScale', 'language': 'en'}),\n",
       " Document(page_content=\"About | TribalScale1-416-800-0918Our ServicesProductTransformationDesignVenture StudioLLM CalculatorThought LeadershipBlogsPodcastsPress ReleaseCase StudiesAboutCareersConnect With UsOUR SERVICES ProductTransformationDesignVenture StudioLLM CalculatorTHOUGHT LEADERSHIP BlogsPodcastsPress ReleaseCOMPANY Case StudiesAboutCareersConnect With UsA digital innovation firm with a mission to right the futureNot a massive development shop, VC firm, or design agency, but a unique group of skilled individuals, all feeding on one another's talent. Empowering businesses to grow their success; whether that's transforming their process, building products from a vision, establishing a brand, or supporting from the back-end.Our MissionRight The FutureVERBDefinition:To actively and purposefully shape a positive and transformative trajectory for the future. The term implies a commitment to innovation, resilience, and empowerment, with the goal of correcting, improving, or steering the course of what lies\", metadata={'source': 'https://www.tribalscale.com/about', 'title': 'About | TribalScale', 'description': 'About | TribalScale', 'language': 'en'}),\n",
       " Document(page_content='course of what lies ahead. Organizations or individuals who strive to \"right the future\" embrace change, challenge the status quo, and work towards creating a future characterized by progress, inclusivity, and sustained success.Our Commitment to TomorrowAt TribalScale, our mission is not just a statement; it\\'s a call to action. We envision a future where innovation isn\\'t a luxury but a necessity, where businesses thrive by embracing change rather than fearing it. We are not merely a digital innovation firm; we are architects of progress, dedicated to shaping a future that is both transformative and inclusive.Innovation as a Guiding LightWe are not bound by the constraints of tradition. Instead, we see innovation as a guiding light, leading us to solutions that redefine industries and empower businesses to chart new territories.Empowering GrowthOur unique approach goes beyond the conventional roles of a development shop, VC firm, or design agency. We are a collective of skilled', metadata={'source': 'https://www.tribalscale.com/about', 'title': 'About | TribalScale', 'description': 'About | TribalScale', 'language': 'en'}),\n",
       " Document(page_content='of skilled individuals, each contributing to a tapestry of talent. Our mission is to empower businesses to achieve unprecedented success, whether by transforming processes, building visionary products, establishing powerful brands, or providing steadfast back-end support.', metadata={'source': 'https://www.tribalscale.com/about', 'title': 'About | TribalScale', 'description': 'About | TribalScale', 'language': 'en'}),\n",
       " Document(page_content=\"75+ NUMBER OF PARTNERS500M+ UNIQUE USERS REACHED350+ PROJECTS SHIPPEDExplore Innovation with TribalScale Venture StudioDiscover how we nurture groundbreaking ideas, foster collaborations, and empower startups to thrive.Explore Venture StudioLet's work togetherHave questions about your next digital project, startup or TribalScale? Let’s work through it together.contact@tribalscale.com1-416-800-0918Toronto | New York | Miamicontact@tribalscale.com1-416-800-0918Toronto | New York | MiamiOur ServicesProductTransformationDesignVenture StudioLLM CalculatorOur ServicesProductTransformationDesignVenture StudioLLM CalculatorThought LeadershipBlogsPodcastsPress ReleaseThought LeadershipBlogsPodcastsPress ReleaseCompanyAboutCareersCase StudiesConnect With UsCompanyAboutCareersCase StudiesConnect With Uscontact@tribalscale.com1-416-800-0918Toronto | New York | Miami© 2024 TRIBALSCALE INC.|PRIVACY POLICY\", metadata={'source': 'https://www.tribalscale.com/about', 'title': 'About | TribalScale', 'description': 'About | TribalScale', 'language': 'en'}),\n",
       " Document(page_content=\"Careers | TribalScale1-416-800-0918Our ServicesProductTransformationDesignVenture StudioLLM CalculatorThought LeadershipBlogsPodcastsPress ReleaseCase StudiesAboutCareersConnect With UsOUR SERVICES ProductTransformationDesignVenture StudioLLM CalculatorTHOUGHT LEADERSHIP BlogsPodcastsPress ReleaseCOMPANY Case StudiesAboutCareersConnect With UsOUR PEOPLEOur\\xa0team is our lifebloodWe're called TribalScale for a reason. We carry that community mentality into every day, empowering ourselves, each other, and our clients to reach our goals.JOB OPENINGSAre you ready to right the future?View PositionsFREELANCE OPPORTUNITIESLooking to freelance with us?Apply as a FreelancerCULTUREPowered by each other; we’re stronger together.We thrive on our company culture every hour of every day. Besides building on our skill sets, we love a good game of trivia, a weekly Lunch & Learn, and unwinding at weekly socials. And that’s just the beginning. Through our People Pathway team we set aside weekly meetings\", metadata={'source': 'https://www.tribalscale.com/careers', 'title': 'Careers | TribalScale', 'description': 'Careers | TribalScale', 'language': 'en'}),\n",
       " Document(page_content=\"weekly meetings to continually brainstorm ways to create, maintain, and nurture company culture. We listen to our team's feedback, we keep them informed through monthly townhalls, and we create a safe space to fail fast, grow, and learn.Sheetal Jaitly, Founder and Chief Executive OfficerPlay hard, work harder, fail fast. We're smart, we're hungry, & we're in service for a better tomorrow.Perks & BenefitsWe have a large range of perks and benefits to fit your life.Health InsuranceHealth, dental, vision, life insuranceProfessional DevelopmentWeekly Lunch & Learns, subsidies on courses and workshops to help you upskillConferences & EventsConstant opportunity to attend conferences and events, tickets on usSocialsFriday socials, group hangouts, themed parties, quarterly events!Flexible Work ScheduleAbility to fit work into your personal scheduleParental LeavePaid parental leave for moms and dadsFitness PerksSubsidized corporate membership of Class Pass offering an array of classes\", metadata={'source': 'https://www.tribalscale.com/careers', 'title': 'Careers | TribalScale', 'description': 'Careers | TribalScale', 'language': 'en'}),\n",
       " Document(page_content='Goodlife corporate gym membership which offers 30% discount as well as sign-up fees waivedMental Health PerkSubsidized online therapy sessions and resources with InkblotLong Weekend PerkThe option for extra long weekends to spend with your family & friendsTake your birthday offGo ahead, celebrate!Inward Strong PartnershipTribalScale has sponsored an Inward Strong platform membership for all our Tribe members. This platform focuses on bettering your mental fitness and literacy, while also earning Tokens of Gratitude, which will be used to gift charitable organizations and people in need access to mental health supportVet Perks4 Virtual Vet Appointments annually for your Furry FriendsWHAT WE LIVE BYOur Core Values Resilience Our Fail Fast mentality accelerates us past hardships and allows us to break down barriers, managing client expectations with ease. Empowerment While lifting each other up, we act as guides, leaders, and followers to help everyone achieve individual success and', metadata={'source': 'https://www.tribalscale.com/careers', 'title': 'Careers | TribalScale', 'description': 'Careers | TribalScale', 'language': 'en'}),\n",
       " Document(page_content=\"success and exceed expectations, driving us forward as a team. Challenge & Collaborate We are passionate about learning, teaching, and collaborating with each other across teams. We challenge our peers, drawing from past failures and successes to always push for the best outcome. Caring Care about your client experience. Build confidence and trust with our clients by showing your work and demonstrating your expertise and professionalism.Care about your team members' time. Show up on time, end meetings on time, come prepared for quality work and discussions. Have empathy for client curiosity.Care about how our work and our client experience impacts our reputation as a team of A-Players. When you see something going wrong, when you think someone needs help, care enough to speak up.;OUR FOCUSDiversity & InclusionWe constantly strive to nurture Diversity and Inclusion initiatives. Diversity is what helps us grow, learn, and become a welcoming, collaborative environment. Inclusion is\", metadata={'source': 'https://www.tribalscale.com/careers', 'title': 'Careers | TribalScale', 'description': 'Careers | TribalScale', 'language': 'en'}),\n",
       " Document(page_content=\"Inclusion is ensuring all voices contribute, all values are understood, and everyone has a seat at the table. We practice Diversity and Inclusion in everyday actions, as well as attending events, publishing blog series, or setting goals for our team.BE THE FIRST TO KNOWFollow us on social for the latest in tech & thought leadershipLet's work togetherHave questions about your next digital project, startup or TribalScale? Let’s work through it together.contact@tribalscale.com1-416-800-0918Toronto | New York | Miamicontact@tribalscale.com1-416-800-0918Toronto | New York | MiamiOur ServicesProductTransformationDesignVenture StudioLLM CalculatorOur ServicesProductTransformationDesignVenture StudioLLM CalculatorThought LeadershipBlogsPodcastsPress ReleaseThought LeadershipBlogsPodcastsPress ReleaseCompanyAboutCareersCase StudiesConnect With UsCompanyAboutCareersCase StudiesConnect With Uscontact@tribalscale.com1-416-800-0918Toronto | New York | Miami© 2024 TRIBALSCALE INC.|PRIVACY POLICY\", metadata={'source': 'https://www.tribalscale.com/careers', 'title': 'Careers | TribalScale', 'description': 'Careers | TribalScale', 'language': 'en'})]"
      ]
     },
     "execution_count": 10,
     "metadata": {},
     "output_type": "execute_result"
    }
   ],
   "source": [
    "from langchain.text_splitter import RecursiveCharacterTextSplitter\n",
    "\n",
    "def split_docs(documents, chunk_size=1000, chunk_overlap=20):\n",
    "  text_splitter = RecursiveCharacterTextSplitter(chunk_size=chunk_size, chunk_overlap=chunk_overlap)\n",
    "  docs = text_splitter.split_documents(documents)\n",
    "  return docs\n",
    "\n",
    "docs = split_docs(documents)\n",
    "\n",
    "len(docs)\n",
    "docs"
   ]
  },
  {
   "cell_type": "code",
   "execution_count": 11,
   "metadata": {},
   "outputs": [
    {
     "name": "stdout",
     "output_type": "stream",
     "text": [
      "Home | TribalScale1-416-800-0918Our ServicesProductTransformationDesignVenture StudioLLM CalculatorThought LeadershipBlogsPodcastsPress ReleaseCase StudiesAboutCareersConnect With UsOUR SERVICES ProductTransformationDesignVenture StudioLLM CalculatorTHOUGHT LEADERSHIP BlogsPodcastsPress ReleaseCOMPANY Case StudiesAboutCareersConnect With UsYour browser does not support HTML5 video.A mission toright the futureTribalScale is a global innovation firm that helps enterprises adapt and thrive in the digital era. Through Agile practices we transform teams, build best-in-class digital products, and create disruptive startups.75+ NUMBER OF PARTNERS500M+ UNIQUE USERS REACHED350+ PROJECTS SHIPPEDConnect With UsOur servicesA unique and comprehensive approach to digital innovationProductWe build and design cloud-native software solutions for web, mobile, and emerging tech.See MoreTransformationWe enable and empower enterprise teams on every aspect of Agile product development.See Moreour workOur\n"
     ]
    }
   ],
   "source": [
    "print(docs[0].page_content)\n"
   ]
  },
  {
   "cell_type": "code",
   "execution_count": 12,
   "metadata": {},
   "outputs": [
    {
     "data": {
      "text/plain": [
       "1024"
      ]
     },
     "execution_count": 12,
     "metadata": {},
     "output_type": "execute_result"
    }
   ],
   "source": [
    "embeddings = NVIDIAEmbeddings()\n",
    "query_result = embeddings.embed_query(\"Hello World!\")\n",
    "len(query_result)"
   ]
  },
  {
   "cell_type": "code",
   "execution_count": 13,
   "metadata": {},
   "outputs": [],
   "source": [
    "vector_store = FAISS.from_documents(documents=docs, embedding=NVIDIAEmbeddings())"
   ]
  },
  {
   "cell_type": "code",
   "execution_count": 20,
   "metadata": {},
   "outputs": [
    {
     "data": {
      "text/plain": [
       "[Document(page_content=\"About | TribalScale1-416-800-0918Our ServicesProductTransformationDesignVenture StudioLLM CalculatorThought LeadershipBlogsPodcastsPress ReleaseCase StudiesAboutCareersConnect With UsOUR SERVICES ProductTransformationDesignVenture StudioLLM CalculatorTHOUGHT LEADERSHIP BlogsPodcastsPress ReleaseCOMPANY Case StudiesAboutCareersConnect With UsA digital innovation firm with a mission to right the futureNot a massive development shop, VC firm, or design agency, but a unique group of skilled individuals, all feeding on one another's talent. Empowering businesses to grow their success; whether that's transforming their process, building products from a vision, establishing a brand, or supporting from the back-end.Our MissionRight The FutureVERBDefinition:To actively and purposefully shape a positive and transformative trajectory for the future. The term implies a commitment to innovation, resilience, and empowerment, with the goal of correcting, improving, or steering the course of what lies\", metadata={'source': 'https://www.tribalscale.com/about', 'title': 'About | TribalScale', 'description': 'About | TribalScale', 'language': 'en'}),\n",
       " Document(page_content='of skilled individuals, each contributing to a tapestry of talent. Our mission is to empower businesses to achieve unprecedented success, whether by transforming processes, building visionary products, establishing powerful brands, or providing steadfast back-end support.', metadata={'source': 'https://www.tribalscale.com/about', 'title': 'About | TribalScale', 'description': 'About | TribalScale', 'language': 'en'})]"
      ]
     },
     "execution_count": 20,
     "metadata": {},
     "output_type": "execute_result"
    }
   ],
   "source": [
    "vector_store.search(\"Who are you?\", search_type=\"similarity\", k=2)\n"
   ]
  },
  {
   "cell_type": "code",
   "execution_count": 25,
   "metadata": {},
   "outputs": [],
   "source": [
    "llm = ChatNVIDIA(model=\"meta/llama2-70b\")\n",
    "\n",
    "chat = ChatNVIDIA(model=\"meta/llama2-70b\", temperature=0.1, max_tokens=1000, top_p=1.0)\n",
    "memory = ConversationBufferMemory(memory_key=\"chat_history\", return_messages=True)\n",
    "\n",
    "question_generator = LLMChain(llm=llm, prompt=CONDENSE_QUESTION_PROMPT)\n",
    "\n",
    "\n",
    "doc_chain = load_qa_chain(chat , chain_type=\"stuff\", prompt=QA_PROMPT)\n",
    "\n",
    "qa = ConversationalRetrievalChain(\n",
    "    retriever=vector_store.as_retriever(),\n",
    "    combine_docs_chain=doc_chain,\n",
    "    memory=memory,\n",
    "    question_generator=question_generator,\n",
    ")"
   ]
  },
  {
   "cell_type": "code",
   "execution_count": 28,
   "metadata": {},
   "outputs": [
    {
     "name": "stdout",
     "output_type": "stream",
     "text": [
      "  Based on the information provided, TribalScale offers various career options that align with their unique approach to digital innovation, empowerment, inclusivity, diversity, sustainability, and mission to \"right the future.\" Some of the career options available at TribalScale include:\n",
      "\n",
      "1. Product Transformation: TribalScale offers opportunities to work on transformative projects that redefine industries and empower businesses to chart new territories.\n",
      "2. Design: As a digital innovation firm, TribalScale likely has a design team that focuses on creating innovative and inclusive designs for their clients.\n",
      "3. Venture Studio: TribalScale's Venture Studio is dedicated to building and scaling startups that have the potential to create a positive impact on society.\n",
      "4. LLM Calculator: TribalScale has developed an LLM Calculator, which is a tool that helps law firms and legal departments calculate their LLM (Master of Laws) return on investment.\n",
      "5. Thought Leadership: TribalScale publishes blogs, podcasts, and press releases that provide insights and thought leadership in the digital innovation space.\n",
      "6. Freelance Opportunities: TribalScale also offers freelance opportunities for individuals who want to work with them on a project-by-project basis.\n",
      "7. People Pathway Team: TribalScale has a People Pathway team that focuses on empowering their team members to reach their goals and build their skill sets.\n",
      "8. Diversity and Inclusion: TribalScale prioritizes diversity and inclusion in their everyday actions, attends events, publishes blog series, and sets goals for their team.\n",
      "9. Digital Project Management: TribalScale manages digital projects for their clients, ensuring that projects are delivered on time, within budget, and to the highest quality.\n",
      "10. Startup Development: TribalScale works with startups to help them develop and scale their products and services.\n",
      "\n",
      "These are just a few examples of the career options available at TribalScale. The company's unique approach to digital innovation, empowerment, inclusivity, diversity, sustainability, and mission to \"right the future\" offers a wide range of opportunities for individuals who share their values and vision.\n"
     ]
    }
   ],
   "source": [
    "query = \"What are the career options here?\"\n",
    "result = qa.invoke ({\"question\": query})\n",
    "print(result.get(\"answer\"))"
   ]
  },
  {
   "cell_type": "code",
   "execution_count": 29,
   "metadata": {},
   "outputs": [
    {
     "name": "stdout",
     "output_type": "stream",
     "text": [
      "  TribalScale prioritizes diversity and inclusion in their everyday actions, attends events, publishes blog series, and sets goals for their team because they believe in ensuring that all voices contribute, all values are understood, and everyone has a seat at the table. They practice Diversity and Inclusion in their daily actions and events to create a future that is both transformative and inclusive. By doing so, they aim to empower themselves, each other, and their clients to reach their goals and shape a future that embraces change, challenges the status quo, and promotes progress, inclusivity, and sustained success.\n"
     ]
    }
   ],
   "source": [
    "query = \"But why?\"\n",
    "result = qa({\"question\": query})\n",
    "print(result.get(\"answer\"))"
   ]
  },
  {
   "cell_type": "code",
   "execution_count": 30,
   "metadata": {},
   "outputs": [
    {
     "name": "stderr",
     "output_type": "stream",
     "text": [
      "c:\\Users\\acer\\miniconda3\\envs\\resume\\Lib\\site-packages\\langchain_nvidia_ai_endpoints\\_statics.py:361: UserWarning: Model llama2_70b is deprecated. Using meta/llama2-70b instead.\n",
      "  warnings.warn(\n"
     ]
    }
   ],
   "source": [
    "llm = ChatNVIDIA(model=\"llama2_70b\", temperature=0.1, max_tokens=1000, top_p=1.0)\n",
    "\n",
    "qa_prompt=QA_PROMPT\n",
    "\n",
    "doc_chain = load_qa_chain(llm, chain_type=\"stuff\", prompt=QA_PROMPT)\n",
    "\n",
    "qa = ConversationalRetrievalChain.from_llm(\n",
    "    llm=llm,\n",
    "    retriever=vector_store.as_retriever(),\n",
    "    chain_type=\"stuff\",\n",
    "    memory=memory,\n",
    "    combine_docs_chain_kwargs={'prompt': qa_prompt},\n",
    ")"
   ]
  },
  {
   "cell_type": "code",
   "execution_count": 31,
   "metadata": {},
   "outputs": [
    {
     "name": "stdout",
     "output_type": "stream",
     "text": [
      "  TribalScale's approach to digital innovation is unique and comprehensive, encompassing product development, transformation, design, venture studio, and thought leadership. Their mission to \"right the future\" means they embrace change, challenge the status quo, and work towards creating a future characterized by progress, inclusivity, and sustained success. TribalScale sees innovation as a guiding light leading them to solutions that redefine industries and empower businesses to chart new territories. Their approach goes beyond the conventional roles of a development shop, VC firm, or design agency, and they are committed to empowering businesses to grow their success. This approach aligns with their mission to shape a positive and transformative trajectory for the future, correcting, improving, or steering the course of what lies ahead.\n"
     ]
    }
   ],
   "source": [
    "query = \"What is Tribal Scale?\"\n",
    "result = qa({\"question\": query})\n",
    "print(result.get(\"answer\"))"
   ]
  },
  {
   "cell_type": "code",
   "execution_count": 32,
   "metadata": {},
   "outputs": [
    {
     "name": "stdout",
     "output_type": "stream",
     "text": [
      "  TribalScale prioritizes diversity and inclusion in their everyday actions, attends events, publishes blog series, and sets goals for their team because they believe in ensuring all voices contribute, all values are understood, and everyone has a seat at the table. They practice Diversity and Inclusion in everyday actions as well as attending events, publishing blog series, or setting goals for their team. This is evident in their mission to \"right the future\" by embracing change, challenging the status quo, and working towards creating a future characterized by progress, inclusivity, and sustained success. They envision a future where innovation isn't a luxury but a necessity, where businesses thrive by embracing change rather than fearing it. By prioritizing diversity and inclusion, TribalScale aims to create a future that is both transformative and inclusive.\n"
     ]
    }
   ],
   "source": [
    "query = \"But why?\"\n",
    "result = qa({\"question\": query})\n",
    "print(result.get(\"answer\"))"
   ]
  }
 ],
 "metadata": {
  "kernelspec": {
   "display_name": "resume",
   "language": "python",
   "name": "python3"
  },
  "language_info": {
   "codemirror_mode": {
    "name": "ipython",
    "version": 3
   },
   "file_extension": ".py",
   "mimetype": "text/x-python",
   "name": "python",
   "nbconvert_exporter": "python",
   "pygments_lexer": "ipython3",
   "version": "3.11.7"
  }
 },
 "nbformat": 4,
 "nbformat_minor": 2
}
